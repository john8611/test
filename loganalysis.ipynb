{
 "cells": [
  {
   "cell_type": "code",
   "execution_count": 2,
   "metadata": {
    "collapsed": false
   },
   "outputs": [
    {
     "name": "stdout",
     "output_type": "stream",
     "text": [
      "[(u'199.72.81.55', u'-', u'-', u'01/Jul/1995:00:00:01 -0400', u'GET', u'/history/apollo/', u'HTTP/1.0', u'200', u'6245'), (u'unicomp6.unicomp.net', u'-', u'-', u'01/Jul/1995:00:00:06 -0400', u'GET', u'/shuttle/countdown/', u'HTTP/1.0', u'200', u'3985')]\n"
     ]
    }
   ],
   "source": [
    "import re\n",
    "#Parse logdata using regular expressions\n",
    "\n",
    "baseDir = os.getcwd()\n",
    "logFile = os.path.join(baseDir, '/Users/MJ/Desktop/sample_log')\n",
    "\n",
    "APACHE_ACCESS_LOG_PATTERN = '^(\\S+) (\\S+) (\\S+) \\[([\\w:/]+\\s[+\\-]\\d{4})\\] \"(\\S+) (\\S+)\\s*(\\S*)\" (\\d{3}) (\\S+)'\n",
    "\n",
    "def parseLog(logline):\n",
    "    match = re.search(APACHE_ACCESS_LOG_PATTERN, logline)\n",
    "    if match is None:\n",
    "        return (logline, 0)\n",
    "    return (match.group(1),match.group(2),match.group(3),match.group(4),match.group(5),match.group(6),match.group(7),match.group(8),match.group(9))\n",
    "\n",
    "parsed_logs = sc.textFile(logFile).map(parseLog)\n",
    "\n",
    "print parsed_logs.take(10)\n"
   ]
  },
  {
   "cell_type": "code",
   "execution_count": 3,
   "metadata": {
    "collapsed": false,
    "scrolled": true
   },
   "outputs": [
    {
     "name": "stdout",
     "output_type": "stream",
     "text": [
      "row :  Row(age=11, name='Alice')\n",
      "row name :  Alice\n",
      "row.age :  11\n",
      "Person :  <Row(name, age)>\n",
      "Person(\"Alice\", 11) : Row(name='Alice', age=11)\n",
      "<Row(name, age)>\n"
     ]
    }
   ],
   "source": [
    "#Row Class\n",
    "from pyspark.sql import Row\n",
    "\n",
    "# Row can be used to create a row object by using named arguments, \n",
    "# the fields will be sorted by names.\n",
    "\n",
    "row = Row(name=\"Alice\", age=11)\n",
    "print \"row : \", row\n",
    "print \"row name : \", row.name\n",
    "print \"row.age : \", row.age\n",
    "\n",
    "# Row also can be used to create another Row like class, \n",
    "# then it could be used to create Row objects, such as\n",
    "\n",
    "Person = Row(\"name\", \"age\")\n",
    "print \"Person : \", Person\n",
    "print \"\"\"Person(\"Alice\", 11) :\"\"\", Person(\"Alice\", 11)\n",
    "print Person"
   ]
  },
  {
   "cell_type": "code",
   "execution_count": 4,
   "metadata": {
    "collapsed": false
   },
   "outputs": [
    {
     "name": "stdout",
     "output_type": "stream",
     "text": [
      "2016-06-07 00:41:07.217224\n",
      "2016-06-07 18:45:45\n"
     ]
    }
   ],
   "source": [
    "import datetime\n",
    "\n",
    "print datetime.datetime.now()\n",
    "print datetime.datetime(2016,06,07,18,45,45)"
   ]
  },
  {
   "cell_type": "code",
   "execution_count": 5,
   "metadata": {
    "collapsed": false
   },
   "outputs": [
    {
     "name": "stdout",
     "output_type": "stream",
     "text": [
      "[(Row(client_identd=u'-', content_size=6245L, date_time=datetime.datetime(1995, 7, 1, 0, 0, 1), endpoint=u'/history/apollo/', host=u'199.72.81.55', method=u'GET', protocol=u'HTTP/1.0', response_code=200, user_id=u'-'), 1), (Row(client_identd=u'-', content_size=3985L, date_time=datetime.datetime(1995, 7, 1, 0, 0, 6), endpoint=u'/shuttle/countdown/', host=u'unicomp6.unicomp.net', method=u'GET', protocol=u'HTTP/1.0', response_code=200, user_id=u'-'), 1)]\n"
     ]
    }
   ],
   "source": [
    "# Use of datetime \n",
    "month_map = {'Jan': 1, 'Feb': 2, 'Mar':3, 'Apr':4, 'May':5, 'Jun':6, 'Jul':7,\n",
    "    'Aug':8,  'Sep': 9, 'Oct':10, 'Nov': 11, 'Dec': 12}\n",
    "\n",
    "# s : 01/Jul/1995:00:00:06 -0400\n",
    "# s[0:2] : 01\n",
    "# s[3:6] : Jul\n",
    "# s[7:11] : 1995\n",
    "# s[12:14] : 00\n",
    "# s[15:17] : 00\n",
    "# s[18:20] : 06\n",
    "def parse_apache_time(s):\n",
    "    \"\"\" Convert Apache time format into a Python datetime object\n",
    "    Args:\n",
    "        s (str): date and time in Apache time format\n",
    "    Returns:\n",
    "        datetime: datetime object (ignore timezone for now)\n",
    "    \"\"\"\n",
    "    return datetime.datetime(int(s[7:11]),\n",
    "                             month_map[s[3:6]],\n",
    "                             int(s[0:2]),\n",
    "                             int(s[12:14]),\n",
    "                             int(s[15:17]),\n",
    "                             int(s[18:20]))\n",
    "\n",
    "def parseApacheLogLine(logline):\n",
    "    match = re.search(APACHE_ACCESS_LOG_PATTERN, logline)\n",
    "    if match is None:\n",
    "        return (logline, 0)\n",
    "    size_field = match.group(9)\n",
    "    if size_field == '-':\n",
    "        size = long(0)\n",
    "    else:\n",
    "        size = long(match.group(9))\n",
    "    return (Row(\n",
    "        host          = match.group(1),\n",
    "        client_identd = match.group(2),\n",
    "        user_id       = match.group(3),\n",
    "        date_time     = parse_apache_time(match.group(4)),\n",
    "        method        = match.group(5),\n",
    "        endpoint      = match.group(6),\n",
    "        protocol      = match.group(7),\n",
    "        response_code = int(match.group(8)),\n",
    "        content_size  = size\n",
    "    ), 1)\n",
    "\n",
    "parsed_logs = sc.textFile(logFile).map(parseApacheLogLine)\n",
    "\n",
    "print parsed_logs.take(10)\n"
   ]
  },
  {
   "cell_type": "code",
   "execution_count": 6,
   "metadata": {
    "collapsed": false
   },
   "outputs": [
    {
     "name": "stdout",
     "output_type": "stream",
     "text": [
      "[(Row(client_identd=u'-', content_size=6245L, date_time=datetime.datetime(1995, 7, 1, 0, 0, 1), endpoint=u'/history/apollo/', host=u'199.72.81.55', method=u'GET', protocol=u'HTTP/1.0', response_code=200, user_id=u'-'), 1), (Row(client_identd=u'-', content_size=3985L, date_time=datetime.datetime(1995, 7, 1, 0, 0, 6), endpoint=u'/shuttle/countdown/', host=u'unicomp6.unicomp.net', method=u'GET', protocol=u'HTTP/1.0', response_code=200, user_id=u'-'), 1)]\n",
      "[Row(client_identd=u'-', content_size=6245L, date_time=datetime.datetime(1995, 7, 1, 0, 0, 1), endpoint=u'/history/apollo/', host=u'199.72.81.55', method=u'GET', protocol=u'HTTP/1.0', response_code=200, user_id=u'-'), Row(client_identd=u'-', content_size=3985L, date_time=datetime.datetime(1995, 7, 1, 0, 0, 6), endpoint=u'/shuttle/countdown/', host=u'unicomp6.unicomp.net', method=u'GET', protocol=u'HTTP/1.0', response_code=200, user_id=u'-')]\n"
     ]
    }
   ],
   "source": [
    "baseDir = os.getcwd()\n",
    "logFile = os.path.join(baseDir, 'sample_log')\n",
    "\n",
    "month_map = {'Jan': 1, 'Feb': 2, 'Mar':3, 'Apr':4, 'May':5, 'Jun':6, 'Jul':7,\n",
    "    'Aug':8,  'Sep': 9, 'Oct':10, 'Nov': 11, 'Dec': 12}\n",
    "\n",
    "\n",
    "def parse_apache_time(s):\n",
    "    return datetime.datetime(int(s[7:11]),\n",
    "                             month_map[s[3:6]],\n",
    "                             int(s[0:2]),\n",
    "                             int(s[12:14]),\n",
    "                             int(s[15:17]),\n",
    "                             int(s[18:20]))\n",
    "\n",
    "def parseApacheLogLine(logline):\n",
    "    match = re.search(APACHE_ACCESS_LOG_PATTERN, logline)\n",
    "    if match is None:\n",
    "        return (logline, 0)\n",
    "    size_field = match.group(9)\n",
    "    if size_field == '-':\n",
    "        size = long(0)\n",
    "    else:\n",
    "        size = long(match.group(9))\n",
    "    return (Row(\n",
    "        host          = match.group(1),\n",
    "        client_identd = match.group(2),\n",
    "        user_id       = match.group(3),\n",
    "        date_time     = parse_apache_time(match.group(4)),\n",
    "        method        = match.group(5),\n",
    "        endpoint      = match.group(6),\n",
    "        protocol      = match.group(7),\n",
    "        response_code = int(match.group(8)),\n",
    "        content_size  = size\n",
    "    ), 1)\n",
    "\n",
    "parsed_logs = sc.textFile(logFile).map(parseApacheLogLine)\n",
    "\n",
    "print parsed_logs.take(10)\n",
    "\n",
    "access_logs = (parsed_logs\n",
    "                   .filter(lambda s: s[1] == 1)\n",
    "                   .map(lambda s: s[0])\n",
    "                   .cache())\n",
    "print access_logs.take(10)"
   ]
  },
  {
   "cell_type": "code",
   "execution_count": 8,
   "metadata": {
    "collapsed": false
   },
   "outputs": [
    {
     "name": "stdout",
     "output_type": "stream",
     "text": [
      "Read 50 lines, successfully parsed 50 lines, failed to parse 0 lines\n"
     ]
    }
   ],
   "source": [
    "baseDir = os.getcwd()\n",
    "logFile = os.path.join(baseDir, '/Users/MJ/Desktop/nasa_access_log_Jul95')\n",
    "\n",
    "def parseLogs():\n",
    "    \"\"\" Read and parse log file \"\"\"\n",
    "    parsed_logs = (sc\n",
    "                   .textFile(logFile)\n",
    "                   .map(parseApacheLogLine)\n",
    "                   .cache())\n",
    "\n",
    "    access_logs = (parsed_logs\n",
    "                   .filter(lambda s: s[1] == 1)\n",
    "                   .map(lambda s: s[0])\n",
    "                   .cache())\n",
    "\n",
    "    failed_logs = (parsed_logs\n",
    "                   .filter(lambda s: s[1] == 0)\n",
    "                   .map(lambda s: s[0]))\n",
    "    failed_logs_count = failed_logs.count()\n",
    "    if failed_logs_count > 0:\n",
    "        print 'Number of invalid logline: %d' % failed_logs.count()\n",
    "        for line in failed_logs.take(20):\n",
    "            print 'Invalid logline: %s' % line\n",
    "\n",
    "    print 'Read %d lines, successfully parsed %d lines, failed to parse %d lines' % (parsed_logs.count(), access_logs.count(), failed_logs.count())\n",
    "    return parsed_logs, access_logs, failed_logs\n",
    "\n",
    "\n",
    "parsed_logs, access_logs, failed_logs = parseLogs()\n"
   ]
  },
  {
   "cell_type": "code",
   "execution_count": 9,
   "metadata": {
    "collapsed": false
   },
   "outputs": [
    {
     "name": "stdout",
     "output_type": "stream",
     "text": [
      "Content Size Avg: 14077, Min: 0, Max: 101267\n"
     ]
    }
   ],
   "source": [
    "# Calculate statistics based on the content size.\n",
    "content_sizes = access_logs.map(lambda log: log.content_size).cache()\n",
    "print 'Content Size Avg: %i, Min: %i, Max: %s' % (\n",
    "    content_sizes.reduce(lambda a, b : a + b) / content_sizes.count(),\n",
    "    content_sizes.min(),\n",
    "    content_sizes.max())"
   ]
  },
  {
   "cell_type": "code",
   "execution_count": 10,
   "metadata": {
    "collapsed": false
   },
   "outputs": [
    {
     "name": "stdout",
     "output_type": "stream",
     "text": [
      "Found 3 response codes\n",
      "Response Code Counts: [(200, 46), (304, 3), (302, 1)]\n"
     ]
    }
   ],
   "source": [
    "# Response Code to Count\n",
    "responseCodeToCount = (access_logs\n",
    "                       .map(lambda log: (log.response_code, 1))\n",
    "                       .reduceByKey(lambda a, b : a + b)\n",
    "                       .cache())\n",
    "responseCodeToCountList = responseCodeToCount.take(100)\n",
    "print 'Found %d response codes' % len(responseCodeToCountList)\n",
    "print 'Response Code Counts: %s' % responseCodeToCountList"
   ]
  },
  {
   "cell_type": "code",
   "execution_count": 11,
   "metadata": {
    "collapsed": false
   },
   "outputs": [
    {
     "name": "stdout",
     "output_type": "stream",
     "text": [
      "[200, 304, 302]\n",
      "[0.92, 0.06, 0.02]\n"
     ]
    }
   ],
   "source": [
    "# calculate fraction of each responseCode\n",
    "labels = responseCodeToCount.map(lambda (x, y): x).collect()\n",
    "print labels\n",
    "count = access_logs.count()\n",
    "fracs = responseCodeToCount.map(lambda (x, y): (float(y) / count)).collect()\n",
    "print fracs"
   ]
  },
  {
   "cell_type": "code",
   "execution_count": 15,
   "metadata": {
    "collapsed": false
   },
   "outputs": [
    {
     "name": "stdout",
     "output_type": "stream",
     "text": [
      "Any 20 hosts that have accessed more then 10 times: []\n"
     ]
    }
   ],
   "source": [
    "# Any hosts that has accessed the server more than 10 times.\n",
    "hostCountPairTuple = access_logs.map(lambda log: (log.host, 1))\n",
    "\n",
    "hostSum = hostCountPairTuple.reduceByKey(lambda a, b : a + b)\n",
    "\n",
    "hostMoreThan10 = hostSum.filter(lambda s: s[1] > 10)\n",
    "\n",
    "hostsPick20 = (hostMoreThan10\n",
    "               .map(lambda s: s[0])\n",
    "               .take(20))\n",
    "\n",
    "print 'Any 20 hosts that have accessed more then 10 times: %s' % hostsPick20"
   ]
  },
  {
   "cell_type": "code",
   "execution_count": 31,
   "metadata": {
    "collapsed": false
   },
   "outputs": [
    {
     "data": {
      "text/plain": [
       "[<matplotlib.lines.Line2D at 0x11582c0d0>]"
      ]
     },
     "execution_count": 31,
     "metadata": {},
     "output_type": "execute_result"
    },
    {
     "data": {
      "image/png": "[encoded data removed]",
      "text/plain": [
       "<matplotlib.figure.Figure at 0x114c66290>"
      ]
     },
     "metadata": {},
     "output_type": "display_data"
    }
   ],
   "source": [
    "import pylab as plt\n",
    "%matplotlib inline\n",
    "endpoints = (access_logs\n",
    "             .map(lambda log: (log.endpoint, 1))\n",
    "             .reduceByKey(lambda a, b : a + b)\n",
    "             .cache())\n",
    "ends = endpoints.map(lambda (x, y): x).collect()\n",
    "counts = endpoints.map(lambda (x, y): y).collect()\n",
    "\n",
    "plt.figure(figsize=(6,3), facecolor='white')\n",
    "plt.axis([0, len(ends), 0, max(counts)])\n",
    "plt.grid(b=True, which='major', axis='y')\n",
    "plt.xlabel('Endpoints')\n",
    "plt.ylabel('Number of Hits')\n",
    "plt.plot(counts)\n"
   ]
  },
  {
   "cell_type": "code",
   "execution_count": 32,
   "metadata": {
    "collapsed": false
   },
   "outputs": [
    {
     "name": "stdout",
     "output_type": "stream",
     "text": [
      "Top Ten Endpoints: [(u'/images/NASA-logosmall.gif', 5), (u'/shuttle/countdown/', 5), (u'/shuttle/countdown/count.gif', 4), (u'/images/KSC-logosmall.gif', 3), (u'/', 2), (u'/images/ksclogo-medium.gif', 2), (u'/shuttle/missions/sts-71/sts-71-patch-small.gif', 2), (u'/history/apollo/', 1), (u'/software/winvn/bluemarb.gif', 1), (u'/images/WORLD-logosmall.gif', 1)]\n"
     ]
    }
   ],
   "source": [
    "# Top Endpoints\n",
    "endpointCounts = (access_logs\n",
    "                  .map(lambda log: (log.endpoint, 1))\n",
    "                  .reduceByKey(lambda a, b : a + b))\n",
    "\n",
    "topEndpoints = endpointCounts.takeOrdered(10, lambda s: -1 * s[1])\n",
    "\n",
    "print 'Top Ten Endpoints: %s' % topEndpoints"
   ]
  },
  {
   "cell_type": "code",
   "execution_count": 33,
   "metadata": {
    "collapsed": false
   },
   "outputs": [
    {
     "name": "stdout",
     "output_type": "stream",
     "text": [
      "Top Ten failed URLs: [(u'/images/ksclogo-medium.gif', 1), (u'/images/NASA-logosmall.gif', 1), (u'/cgi-bin/imagemap/countdown?99,176', 1), (u'/shuttle/countdown/liftoff.html', 1)]\n"
     ]
    }
   ],
   "source": [
    "# top10 error endpoints\n",
    "\n",
    "not200 = access_logs.filter(lambda log: log.response_code <> 200)\n",
    "\n",
    "endpointCountPairTuple = not200.map(lambda log : (log.endpoint,1))\n",
    "\n",
    "endpointSum = endpointCountPairTuple.reduceByKey(lambda v1,v2 : v1 + v2)\n",
    "\n",
    "topTenErrURLs = endpointSum.takeOrdered(10, lambda s : -1 *s[1])\n",
    "print 'Top Ten failed URLs: %s' % topTenErrURLs"
   ]
  },
  {
   "cell_type": "code",
   "execution_count": 34,
   "metadata": {
    "collapsed": false
   },
   "outputs": [
    {
     "name": "stdout",
     "output_type": "stream",
     "text": [
      "Unique hosts: 23\n"
     ]
    }
   ],
   "source": [
    "# number of unique hosts\n",
    "\n",
    "hosts = access_logs.map(lambda log : log.host)\n",
    "uniqueHosts = hosts.distinct()\n",
    "uniqueHostCount = uniqueHosts.count()\n",
    "print 'Unique hosts: %d' % uniqueHostCount"
   ]
  }
 ],
 "metadata": {
  "kernelspec": {
   "display_name": "Python 2",
   "language": "python",
   "name": "python2"
  },
  "language_info": {
   "codemirror_mode": {
    "name": "ipython",
    "version": 2
   },
   "file_extension": ".py",
   "mimetype": "text/x-python",
   "name": "python",
   "nbconvert_exporter": "python",
   "pygments_lexer": "ipython2",
   "version": "2.7.11"
  }
 },
 "nbformat": 4,
 "nbformat_minor": 0
}
