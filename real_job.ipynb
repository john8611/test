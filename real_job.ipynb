{
 "cells": [
  {
   "cell_type": "markdown",
   "metadata": {},
   "source": [
    "# Original Data calling"
   ]
  },
  {
   "cell_type": "code",
   "execution_count": 1,
   "metadata": {
    "collapsed": false
   },
   "outputs": [
    {
     "name": "stdout",
     "output_type": "stream",
     "text": [
      "(13085, 9) 117765\n"
     ]
    },
    {
     "data": {
      "text/html": [
       "<div>\n",
       "<table border=\"1\" class=\"dataframe\">\n",
       "  <thead>\n",
       "    <tr style=\"text-align: right;\">\n",
       "      <th></th>\n",
       "      <th>class</th>\n",
       "      <th>sample</th>\n",
       "      <th>date</th>\n",
       "      <th>Peak</th>\n",
       "      <th>RT</th>\n",
       "      <th>scan_num</th>\n",
       "      <th>intensity</th>\n",
       "      <th>compoud</th>\n",
       "      <th>Qual</th>\n",
       "    </tr>\n",
       "  </thead>\n",
       "  <tbody>\n",
       "    <tr>\n",
       "      <th>0</th>\n",
       "      <td>Y</td>\n",
       "      <td>Y7E</td>\n",
       "      <td>2015/11/17</td>\n",
       "      <td>1</td>\n",
       "      <td>2.142</td>\n",
       "      <td>549</td>\n",
       "      <td>37101</td>\n",
       "      <td>Carbon dioxide (CAS)</td>\n",
       "      <td>4</td>\n",
       "    </tr>\n",
       "    <tr>\n",
       "      <th>1</th>\n",
       "      <td>Y</td>\n",
       "      <td>Y7E</td>\n",
       "      <td>2015/11/17</td>\n",
       "      <td>2</td>\n",
       "      <td>2.239</td>\n",
       "      <td>575</td>\n",
       "      <td>200880</td>\n",
       "      <td>Carbon dioxide (CAS)</td>\n",
       "      <td>4</td>\n",
       "    </tr>\n",
       "    <tr>\n",
       "      <th>2</th>\n",
       "      <td>Y</td>\n",
       "      <td>Y7E</td>\n",
       "      <td>2015/11/17</td>\n",
       "      <td>3</td>\n",
       "      <td>7.990</td>\n",
       "      <td>2109</td>\n",
       "      <td>3315846</td>\n",
       "      <td>Ethanol (CAS)</td>\n",
       "      <td>64</td>\n",
       "    </tr>\n",
       "    <tr>\n",
       "      <th>3</th>\n",
       "      <td>Y</td>\n",
       "      <td>Y7E</td>\n",
       "      <td>2015/11/17</td>\n",
       "      <td>4</td>\n",
       "      <td>8.076</td>\n",
       "      <td>2132</td>\n",
       "      <td>483523</td>\n",
       "      <td>2</td>\n",
       "      <td>90</td>\n",
       "    </tr>\n",
       "    <tr>\n",
       "      <th>4</th>\n",
       "      <td>Y</td>\n",
       "      <td>Y7E</td>\n",
       "      <td>2015/11/17</td>\n",
       "      <td>5</td>\n",
       "      <td>8.188</td>\n",
       "      <td>2162</td>\n",
       "      <td>67817</td>\n",
       "      <td>3-Cyclopropyl-1-butyne</td>\n",
       "      <td>9</td>\n",
       "    </tr>\n",
       "  </tbody>\n",
       "</table>\n",
       "</div>"
      ],
      "text/plain": [
       "  class  sample        date  Peak     RT  scan_num  intensity  \\\n",
       "0     Y     Y7E  2015/11/17     1  2.142       549      37101   \n",
       "1     Y     Y7E  2015/11/17     2  2.239       575     200880   \n",
       "2     Y     Y7E  2015/11/17     3  7.990      2109    3315846   \n",
       "3     Y     Y7E  2015/11/17     4  8.076      2132     483523   \n",
       "4     Y     Y7E  2015/11/17     5  8.188      2162      67817   \n",
       "\n",
       "                  compoud  Qual  \n",
       "0   Carbon dioxide (CAS)      4  \n",
       "1   Carbon dioxide (CAS)      4  \n",
       "2          Ethanol (CAS)     64  \n",
       "3                       2    90  \n",
       "4  3-Cyclopropyl-1-butyne     9  "
      ]
     },
     "execution_count": 1,
     "metadata": {},
     "output_type": "execute_result"
    }
   ],
   "source": [
    "import pandas as pd\n",
    "\n",
    "raw_2D =  pd.read_csv('final_sep_dar.txt',delimiter=\"$\")\n",
    "\n",
    "print raw_2D.shape,raw_2D.size\n",
    "\n",
    "raw_2D.head()"
   ]
  },
  {
   "cell_type": "markdown",
   "metadata": {},
   "source": [
    "# unit Scan number to time"
   ]
  },
  {
   "cell_type": "code",
   "execution_count": 2,
   "metadata": {
    "collapsed": false
   },
   "outputs": [
    {
     "name": "stdout",
     "output_type": "stream",
     "text": [
      "10 second as minite :  0.166666666667\n",
      "10 second as scan number :  44.1916023521\n"
     ]
    }
   ],
   "source": [
    "ten_sec = 1.0/60 * 10\n",
    "print \"10 second as minite : \",ten_sec\n",
    "\n",
    "ten_sec2scan = ten_sec/(raw_2D.RT/raw_2D.scan_num)\n",
    "ten_sec2scan_avg = ten_sec2scan.mean()\n",
    "print \"10 second as scan number : \",ten_sec2scan_avg"
   ]
  },
  {
   "cell_type": "markdown",
   "metadata": {},
   "source": [
    "# filter by Qual (75)"
   ]
  },
  {
   "cell_type": "code",
   "execution_count": 3,
   "metadata": {
    "collapsed": false
   },
   "outputs": [
    {
     "name": "stdout",
     "output_type": "stream",
     "text": [
      "(6745, 9) 60705\n",
      "Reduce rate :  51.5475735575\n"
     ]
    },
    {
     "data": {
      "text/html": [
       "<div>\n",
       "<table border=\"1\" class=\"dataframe\">\n",
       "  <thead>\n",
       "    <tr style=\"text-align: right;\">\n",
       "      <th></th>\n",
       "      <th>class</th>\n",
       "      <th>sample</th>\n",
       "      <th>date</th>\n",
       "      <th>Peak</th>\n",
       "      <th>RT</th>\n",
       "      <th>scan_num</th>\n",
       "      <th>intensity</th>\n",
       "      <th>compoud</th>\n",
       "      <th>Qual</th>\n",
       "    </tr>\n",
       "  </thead>\n",
       "  <tbody>\n",
       "    <tr>\n",
       "      <th>3</th>\n",
       "      <td>Y</td>\n",
       "      <td>Y7E</td>\n",
       "      <td>2015/11/17</td>\n",
       "      <td>4</td>\n",
       "      <td>8.076</td>\n",
       "      <td>2132</td>\n",
       "      <td>483523</td>\n",
       "      <td>2</td>\n",
       "      <td>90</td>\n",
       "    </tr>\n",
       "    <tr>\n",
       "      <th>7</th>\n",
       "      <td>Y</td>\n",
       "      <td>Y7E</td>\n",
       "      <td>2015/11/17</td>\n",
       "      <td>8</td>\n",
       "      <td>8.406</td>\n",
       "      <td>2220</td>\n",
       "      <td>6109415</td>\n",
       "      <td>Ethyl Acetate</td>\n",
       "      <td>91</td>\n",
       "    </tr>\n",
       "    <tr>\n",
       "      <th>8</th>\n",
       "      <td>Y</td>\n",
       "      <td>Y7E</td>\n",
       "      <td>2015/11/17</td>\n",
       "      <td>9</td>\n",
       "      <td>8.466</td>\n",
       "      <td>2236</td>\n",
       "      <td>2264273</td>\n",
       "      <td>Furan</td>\n",
       "      <td>86</td>\n",
       "    </tr>\n",
       "    <tr>\n",
       "      <th>9</th>\n",
       "      <td>Y</td>\n",
       "      <td>Y7E</td>\n",
       "      <td>2015/11/17</td>\n",
       "      <td>10</td>\n",
       "      <td>8.552</td>\n",
       "      <td>2259</td>\n",
       "      <td>441593</td>\n",
       "      <td>1-Propanol</td>\n",
       "      <td>80</td>\n",
       "    </tr>\n",
       "    <tr>\n",
       "      <th>10</th>\n",
       "      <td>Y</td>\n",
       "      <td>Y7E</td>\n",
       "      <td>2015/11/17</td>\n",
       "      <td>11</td>\n",
       "      <td>8.672</td>\n",
       "      <td>2291</td>\n",
       "      <td>176848</td>\n",
       "      <td>Butanal</td>\n",
       "      <td>90</td>\n",
       "    </tr>\n",
       "  </tbody>\n",
       "</table>\n",
       "</div>"
      ],
      "text/plain": [
       "   class  sample        date  Peak     RT  scan_num  intensity  \\\n",
       "3      Y     Y7E  2015/11/17     4  8.076      2132     483523   \n",
       "7      Y     Y7E  2015/11/17     8  8.406      2220    6109415   \n",
       "8      Y     Y7E  2015/11/17     9  8.466      2236    2264273   \n",
       "9      Y     Y7E  2015/11/17    10  8.552      2259     441593   \n",
       "10     Y     Y7E  2015/11/17    11  8.672      2291     176848   \n",
       "\n",
       "           compoud  Qual  \n",
       "3                2    90  \n",
       "7   Ethyl Acetate     91  \n",
       "8            Furan    86  \n",
       "9       1-Propanol    80  \n",
       "10         Butanal    90  "
      ]
     },
     "execution_count": 3,
     "metadata": {},
     "output_type": "execute_result"
    }
   ],
   "source": [
    "raw_2D_Qual75 = raw_2D[ raw_2D['Qual']> 75]\n",
    "\n",
    "print raw_2D_Qual75.shape,raw_2D_Qual75.size\n",
    "\n",
    "print \"Reduce rate : \",float(raw_2D_Qual75.size)/raw_2D.size*100\n",
    "raw_2D_Qual75.head()"
   ]
  },
  {
   "cell_type": "markdown",
   "metadata": {},
   "source": [
    "# Group by Compound\n",
    "\n",
    "Compound grouping \n",
    "\n",
    "\n",
    "물질은 적어도 5"
   ]
  },
  {
   "cell_type": "code",
   "execution_count": 4,
   "metadata": {
    "collapsed": false
   },
   "outputs": [
    {
     "name": "stdout",
     "output_type": "stream",
     "text": [
      "Estimated Compound number :  295\n"
     ]
    }
   ],
   "source": [
    "comp_group = raw_2D_Qual75.groupby('compoud').groups\n",
    "print \"Estimated Compound number : \",len(comp_group)"
   ]
  },
  {
   "cell_type": "code",
   "execution_count": 6,
   "metadata": {
    "collapsed": false
   },
   "outputs": [],
   "source": [
    "comp_group_a = {}\n",
    "for i in comp_group :\n",
    "    if len(comp_group[i]) > 5 :\n",
    "        comp_group_a[i] = comp_group[i]"
   ]
  },
  {
   "cell_type": "markdown",
   "metadata": {},
   "source": [
    "### Cluster By scan number\n",
    "\n",
    "크로마토그래피에서 같은 물질은 같은 시간대(RT = scan number)에 등장한다. 위 전제를 통해 유사한 시간에서 용출된 물질은 하나의 물질로 정의 할 것이다.\n",
    "\n",
    "bandwidth 는 ***10 second as scan number*** 를 기준으로 잡는다\n",
    "\n",
    "[This](https://github.com/mattnedrich/MeanShift_py/blob/master/sample_images/ms_2d_bw_2.gif?raw=true)\n",
    "[Th1is](https://github.com/john8611/MeanShift_py/blob/master/sample_images/ms_2d_bw_.8.gif?raw=true)\n",
    "\n",
    "~~그림을 보고 싶다면 앞에 ! 를 붙여주시길"
   ]
  },
  {
   "cell_type": "code",
   "execution_count": 7,
   "metadata": {
    "collapsed": true
   },
   "outputs": [],
   "source": [
    "import numpy as np\n",
    "from sklearn.cluster import MeanShift, estimate_bandwidth\n",
    "\n",
    "def cluster_scan(x,bandwidth_a) :\n",
    "    # x = list , bandwidth_a = range list\n",
    "    X = np.array(zip(x,np.zeros(len(x))), dtype=np.int)\n",
    "    bandwidth = bandwidth_a\n",
    "    ms = MeanShift(bandwidth=bandwidth, bin_seeding=True)\n",
    "    ms.fit(X)\n",
    "    labels = ms.labels_\n",
    "    cluster_centers = ms.cluster_centers_\n",
    "    \n",
    "    labels_unique = np.unique(labels)\n",
    "    n_clusters_ = len(labels_unique)\n",
    "    result = []\n",
    "    for k in range(n_clusters_):\n",
    "        my_members = labels == k\n",
    "        result.append(X[my_members, 0])\n",
    "    return result"
   ]
  },
  {
   "cell_type": "code",
   "execution_count": 8,
   "metadata": {
    "collapsed": true
   },
   "outputs": [],
   "source": [
    "Comp_pocket = {}\n",
    "for i in comp_group_a :\n",
    "    # print i \n",
    "    comp_subgroup = raw_2D.iloc[comp_group_a[i],[1,2,3,4,5,6,7,8]]\n",
    "    comp_subgroup_scan = comp_subgroup['scan_num'].values.tolist()\n",
    "    # print cluster_scan(comp_subgroup_scan,ten_sec2scan_avg)\n",
    "    Comp_pocket[i] = cluster_scan(comp_subgroup_scan,ten_sec2scan_avg)\n"
   ]
  },
  {
   "cell_type": "code",
   "execution_count": 11,
   "metadata": {
    "collapsed": false
   },
   "outputs": [
    {
     "name": "stdout",
     "output_type": "stream",
     "text": [
      "Need to search :  513\n"
     ]
    }
   ],
   "source": [
    "P = 0 \n",
    "for i in Comp_pocket :\n",
    "    # print i , len(Comp_pocket[i])\n",
    "    P = P + len(Comp_pocket[i])\n",
    "\n",
    "print \"Need to search : \",P"
   ]
  },
  {
   "cell_type": "code",
   "execution_count": null,
   "metadata": {
    "collapsed": true
   },
   "outputs": [],
   "source": []
  }
 ],
 "metadata": {
  "kernelspec": {
   "display_name": "Python 2",
   "language": "python",
   "name": "python2"
  },
  "language_info": {
   "codemirror_mode": {
    "name": "ipython",
    "version": 2
   },
   "file_extension": ".py",
   "mimetype": "text/x-python",
   "name": "python",
   "nbconvert_exporter": "python",
   "pygments_lexer": "ipython2",
   "version": "2.7.11"
  }
 },
 "nbformat": 4,
 "nbformat_minor": 0
}
